{
  "nbformat": 4,
  "nbformat_minor": 0,
  "metadata": {
    "accelerator": "GPU",
    "colab": {
      "name": "Yale_dataset_test.ipynb",
      "provenance": [],
      "collapsed_sections": [],
      "toc_visible": true,
      "include_colab_link": true
    },
    "kernelspec": {
      "display_name": "Python 3",
      "language": "python",
      "name": "python3"
    },
    "language_info": {
      "codemirror_mode": {
        "name": "ipython",
        "version": 3
      },
      "file_extension": ".py",
      "mimetype": "text/x-python",
      "name": "python",
      "nbconvert_exporter": "python",
      "pygments_lexer": "ipython3",
      "version": "3.6.3"
    }
  },
  "cells": [
    {
      "cell_type": "markdown",
      "metadata": {
        "id": "view-in-github",
        "colab_type": "text"
      },
      "source": [
        "<a href=\"https://colab.research.google.com/github/sujaysathya/Home-Security-System/blob/master/Yale_dataset_test.ipynb\" target=\"_parent\"><img src=\"https://colab.research.google.com/assets/colab-badge.svg\" alt=\"Open In Colab\"/></a>"
      ]
    },
    {
      "cell_type": "code",
      "metadata": {
        "colab_type": "code",
        "id": "U8ygvIaXVgWi",
        "colab": {
          "base_uri": "https://localhost:8080/",
          "height": 34
        },
        "outputId": "1e7f8afa-63b0-4058-d00d-9e12a096a36c"
      },
      "source": [
        "pip install dlib "
      ],
      "execution_count": null,
      "outputs": [
        {
          "output_type": "stream",
          "text": [
            "Requirement already satisfied: dlib in /usr/local/lib/python3.6/dist-packages (19.18.0)\n"
          ],
          "name": "stdout"
        }
      ]
    },
    {
      "cell_type": "code",
      "metadata": {
        "colab_type": "code",
        "id": "woWA7PxvVn-h",
        "colab": {
          "base_uri": "https://localhost:8080/",
          "height": 306
        },
        "outputId": "3674b5e3-a6ee-434b-b6a0-a0af98b5a637"
      },
      "source": [
        "pip install face-recognition"
      ],
      "execution_count": null,
      "outputs": [
        {
          "output_type": "stream",
          "text": [
            "Collecting face-recognition\n",
            "  Downloading https://files.pythonhosted.org/packages/1e/95/f6c9330f54ab07bfa032bf3715c12455a381083125d8880c43cbe76bb3d0/face_recognition-1.3.0-py2.py3-none-any.whl\n",
            "Collecting face-recognition-models>=0.3.0\n",
            "\u001b[?25l  Downloading https://files.pythonhosted.org/packages/cf/3b/4fd8c534f6c0d1b80ce0973d01331525538045084c73c153ee6df20224cf/face_recognition_models-0.3.0.tar.gz (100.1MB)\n",
            "\u001b[K     |████████████████████████████████| 100.2MB 55kB/s \n",
            "\u001b[?25hRequirement already satisfied: dlib>=19.7 in /usr/local/lib/python3.6/dist-packages (from face-recognition) (19.18.0)\n",
            "Requirement already satisfied: numpy in /usr/local/lib/python3.6/dist-packages (from face-recognition) (1.18.5)\n",
            "Requirement already satisfied: Click>=6.0 in /usr/local/lib/python3.6/dist-packages (from face-recognition) (7.1.2)\n",
            "Requirement already satisfied: Pillow in /usr/local/lib/python3.6/dist-packages (from face-recognition) (7.0.0)\n",
            "Building wheels for collected packages: face-recognition-models\n",
            "  Building wheel for face-recognition-models (setup.py) ... \u001b[?25l\u001b[?25hdone\n",
            "  Created wheel for face-recognition-models: filename=face_recognition_models-0.3.0-py2.py3-none-any.whl size=100566172 sha256=bb6f6c3c1413e9d67d6ed6e4d98c02811714b56ad2565fc84edd36c9e0fe2115\n",
            "  Stored in directory: /root/.cache/pip/wheels/d2/99/18/59c6c8f01e39810415c0e63f5bede7d83dfb0ffc039865465f\n",
            "Successfully built face-recognition-models\n",
            "Installing collected packages: face-recognition-models, face-recognition\n",
            "Successfully installed face-recognition-1.3.0 face-recognition-models-0.3.0\n"
          ],
          "name": "stdout"
        }
      ]
    },
    {
      "cell_type": "code",
      "metadata": {
        "colab_type": "code",
        "id": "6qBo_f2VVwin",
        "colab": {}
      },
      "source": [
        "  \n",
        "  import face_recognition\n",
        "import numpy as np\n",
        "import pandas as pd\n",
        "from collections import Counter"
      ],
      "execution_count": null,
      "outputs": []
    },
    {
      "cell_type": "code",
      "metadata": {
        "colab_type": "code",
        "id": "SX7ujoL5WOST",
        "colab": {
          "base_uri": "https://localhost:8080/",
          "height": 1000
        },
        "outputId": "cf049966-8961-4147-851a-9ef012c38508"
      },
      "source": [
        "!unzip /yalefaces.zip\n"
      ],
      "execution_count": null,
      "outputs": [
        {
          "output_type": "stream",
          "text": [
            "Archive:  /yalefaces.zip\n",
            "warning [/yalefaces.zip]:  1048576 extra bytes at beginning or within zipfile\n",
            "  (attempting to process anyway)\n",
            "file #1:  bad zipfile offset (local header sig):  1048576\n",
            "  (attempting to re-compensate)\n",
            "   creating: yalefaces/\n",
            "  inflating: yalefaces/Readme.txt    \n",
            "   creating: __MACOSX/\n",
            "   creating: __MACOSX/yalefaces/\n",
            "  inflating: __MACOSX/yalefaces/._Readme.txt  \n",
            "  inflating: yalefaces/subject01.gif  \n",
            "  inflating: yalefaces/subject01.glasses  \n",
            "  inflating: yalefaces/subject01.glasses.gif  \n",
            "  inflating: yalefaces/subject01.happy  \n",
            "  inflating: yalefaces/subject01.leftlight  \n",
            "  inflating: yalefaces/subject01.noglasses  \n",
            "  inflating: yalefaces/subject01.normal  \n",
            "  inflating: yalefaces/subject01.rightlight  \n",
            "  inflating: yalefaces/subject01.sad  \n",
            "  inflating: yalefaces/subject01.sleepy  \n",
            "  inflating: yalefaces/subject01.surprised  \n",
            "  inflating: yalefaces/subject01.wink  \n",
            "  inflating: yalefaces/subject02.centerlight  \n",
            "  inflating: yalefaces/subject02.glasses  \n",
            "  inflating: yalefaces/subject02.happy  \n",
            "  inflating: yalefaces/subject02.leftlight  \n",
            "  inflating: yalefaces/subject02.noglasses  \n",
            "  inflating: yalefaces/subject02.normal  \n",
            "  inflating: yalefaces/subject02.rightlight  \n",
            "  inflating: yalefaces/subject02.sad  \n",
            "  inflating: yalefaces/subject02.sleepy  \n",
            "  inflating: yalefaces/subject02.surprised  \n",
            "  inflating: yalefaces/subject02.wink  \n",
            "  inflating: yalefaces/subject03.centerlight  \n",
            "  inflating: yalefaces/subject03.glasses  \n",
            "  inflating: yalefaces/subject03.happy  \n",
            "  inflating: yalefaces/subject03.leftlight  \n",
            "  error:  invalid compressed data to inflate\n",
            "file #33:  bad zipfile offset (local header sig):  1063620\n",
            "  (attempting to re-compensate)\n",
            "  inflating: yalefaces/subject03.noglasses  \n",
            "  inflating: yalefaces/subject03.normal  \n",
            "  inflating: yalefaces/subject03.rightlight  \n",
            "  inflating: yalefaces/subject03.sad  \n",
            "  inflating: yalefaces/subject03.sleepy  \n",
            "  inflating: yalefaces/subject03.surprised  \n",
            "  inflating: yalefaces/subject03.wink  \n",
            "  inflating: yalefaces/subject04.centerlight  \n",
            "  inflating: yalefaces/subject04.glasses  \n",
            "  inflating: yalefaces/subject04.happy  \n",
            "  inflating: yalefaces/subject04.leftlight  \n",
            "  inflating: yalefaces/subject04.noglasses  \n",
            "  inflating: yalefaces/subject04.normal  \n",
            "  inflating: yalefaces/subject04.rightlight  \n",
            "  inflating: yalefaces/subject04.sad  \n",
            "  inflating: yalefaces/subject04.sleepy  \n",
            "  inflating: yalefaces/subject04.surprised  \n",
            "  inflating: yalefaces/subject04.wink  \n",
            "  inflating: yalefaces/subject05.centerlight  \n",
            "  inflating: yalefaces/subject05.glasses  \n",
            "  inflating: yalefaces/subject05.happy  \n",
            "  inflating: yalefaces/subject05.leftlight  \n",
            "  inflating: yalefaces/subject05.noglasses  \n",
            "  inflating: yalefaces/subject05.normal  \n",
            "  inflating: yalefaces/subject05.rightlight  \n",
            "  inflating: yalefaces/subject05.sad  \n",
            "  inflating: yalefaces/subject05.sleepy  \n",
            "  inflating: yalefaces/subject05.surprised  \n",
            "  inflating: yalefaces/subject05.wink  \n",
            "  inflating: yalefaces/subject06.centerlight  \n",
            "  inflating: yalefaces/subject06.glasses  \n",
            "  inflating: yalefaces/subject06.happy  \n",
            "  inflating: yalefaces/subject06.leftlight  \n",
            "  inflating: yalefaces/subject06.noglasses  \n",
            "  inflating: yalefaces/subject06.normal  \n",
            "  inflating: yalefaces/subject06.rightlight  \n",
            "  inflating: yalefaces/subject06.sad  \n",
            "  inflating: yalefaces/subject06.sleepy  \n",
            "  inflating: yalefaces/subject06.surprised  \n",
            "  inflating: yalefaces/subject06.wink  \n",
            "  inflating: yalefaces/subject07.centerlight  \n",
            "  inflating: yalefaces/subject07.glasses  \n",
            "  inflating: yalefaces/subject07.happy  \n",
            "  inflating: yalefaces/subject07.leftlight  \n",
            "  inflating: yalefaces/subject07.noglasses  \n",
            "  inflating: yalefaces/subject07.normal  \n",
            "  inflating: yalefaces/subject07.rightlight  \n",
            "  inflating: yalefaces/subject07.sad  \n",
            "  inflating: yalefaces/subject07.sleepy  \n",
            "  inflating: yalefaces/subject07.surprised  \n",
            "  inflating: yalefaces/subject07.wink  \n",
            "  inflating: yalefaces/subject08.centerlight  \n",
            "  inflating: yalefaces/subject08.glasses  \n",
            "  inflating: yalefaces/subject08.happy  \n",
            "  inflating: yalefaces/subject08.leftlight  \n",
            "  inflating: yalefaces/subject08.noglasses  \n",
            "  inflating: yalefaces/subject08.normal  \n",
            "  inflating: yalefaces/subject08.rightlight  \n",
            "  inflating: yalefaces/subject08.sad  \n",
            "  inflating: yalefaces/subject08.sleepy  \n",
            "  inflating: yalefaces/subject08.surprised  \n",
            "  inflating: yalefaces/subject08.wink  \n",
            "  inflating: yalefaces/subject09.centerlight  \n",
            "  inflating: yalefaces/subject09.glasses  \n",
            "  inflating: yalefaces/subject09.happy  \n",
            "  inflating: yalefaces/subject09.leftlight  \n",
            "  inflating: yalefaces/subject09.noglasses  \n",
            "  inflating: yalefaces/subject09.normal  \n",
            "  inflating: yalefaces/subject09.rightlight  \n",
            "  inflating: yalefaces/subject09.sad  \n",
            "  inflating: yalefaces/subject09.sleepy  \n",
            "  inflating: yalefaces/subject09.surprised  \n",
            "  inflating: yalefaces/subject09.wink  \n",
            "  inflating: yalefaces/subject10.centerlight  \n",
            "  inflating: yalefaces/subject10.glasses  \n",
            "  inflating: yalefaces/subject10.happy  \n",
            "  inflating: yalefaces/subject10.leftlight  \n",
            "  inflating: yalefaces/subject10.noglasses  \n",
            "  inflating: yalefaces/subject10.normal  \n",
            "  inflating: yalefaces/subject10.rightlight  \n",
            "  inflating: yalefaces/subject10.sad  \n",
            "  inflating: yalefaces/subject10.sleepy  \n",
            "  inflating: yalefaces/subject10.surprised  \n",
            "  inflating: yalefaces/subject10.wink  \n",
            "  inflating: yalefaces/subject11.centerlight  \n",
            "  inflating: yalefaces/subject11.glasses  \n",
            "  inflating: yalefaces/subject11.happy  \n",
            "  inflating: yalefaces/subject11.leftlight  \n",
            "  inflating: yalefaces/subject11.noglasses  \n",
            "  inflating: yalefaces/subject11.normal  \n",
            "  inflating: yalefaces/subject11.rightlight  \n",
            "  inflating: yalefaces/subject11.sad  \n",
            "  inflating: yalefaces/subject11.sleepy  \n",
            "  inflating: yalefaces/subject11.surprised  \n",
            "  inflating: yalefaces/subject11.wink  \n",
            "  inflating: yalefaces/subject12.centerlight  \n",
            "  inflating: yalefaces/subject12.glasses  \n",
            "  inflating: yalefaces/subject12.happy  \n",
            "  inflating: yalefaces/subject12.leftlight  \n",
            "  inflating: yalefaces/subject12.noglasses  \n",
            "  inflating: yalefaces/subject12.normal  \n",
            "  inflating: yalefaces/subject12.rightlight  \n",
            "  inflating: yalefaces/subject12.sad  \n",
            "  inflating: yalefaces/subject12.sleepy  \n",
            "  inflating: yalefaces/subject12.surprised  \n",
            "  inflating: yalefaces/subject12.wink  \n",
            "  inflating: yalefaces/subject13.centerlight  \n",
            "  inflating: yalefaces/subject13.glasses  \n",
            "  inflating: yalefaces/subject13.happy  \n",
            "  inflating: yalefaces/subject13.leftlight  \n",
            "  inflating: yalefaces/subject13.noglasses  \n",
            "  inflating: yalefaces/subject13.normal  \n",
            "  inflating: yalefaces/subject13.rightlight  \n",
            "  inflating: yalefaces/subject13.sad  \n",
            "  inflating: yalefaces/subject13.sleepy  \n",
            "  inflating: yalefaces/subject13.surprised  \n",
            "  inflating: yalefaces/subject13.wink  \n",
            "  inflating: yalefaces/subject14.centerlight  \n",
            "  inflating: yalefaces/subject14.glasses  \n",
            "  inflating: yalefaces/subject14.happy  \n",
            "  inflating: yalefaces/subject14.leftlight  \n",
            "  inflating: yalefaces/subject14.noglasses  \n",
            "  inflating: yalefaces/subject14.normal  \n",
            "  inflating: yalefaces/subject14.rightlight  \n",
            "  inflating: yalefaces/subject14.sad  \n",
            "  inflating: yalefaces/subject14.sleepy  \n",
            "  inflating: yalefaces/subject14.surprised  \n",
            "  inflating: yalefaces/subject14.wink  \n",
            "  inflating: yalefaces/subject15.centerlight  \n",
            "  inflating: yalefaces/subject15.glasses  \n",
            "  inflating: yalefaces/subject15.happy  \n",
            "  inflating: yalefaces/subject15.leftlight  \n",
            "  inflating: yalefaces/subject15.noglasses  \n",
            "  inflating: yalefaces/subject15.normal  \n",
            "  inflating: yalefaces/subject15.rightlight  \n",
            "  inflating: yalefaces/subject15.sad  \n",
            "  inflating: yalefaces/subject15.sleepy  \n",
            "  inflating: yalefaces/subject15.surprised  \n",
            "  inflating: yalefaces/subject15.wink  \n"
          ],
          "name": "stdout"
        }
      ]
    },
    {
      "cell_type": "code",
      "metadata": {
        "id": "YL6k4e2JLV6t",
        "colab_type": "code",
        "colab": {
          "base_uri": "https://localhost:8080/",
          "height": 34
        },
        "outputId": "17c9c5f5-be1d-486b-bdff-898bb4dcdef7"
      },
      "source": [
        "from google.colab import drive\n",
        "drive.mount('/content/drive')"
      ],
      "execution_count": null,
      "outputs": [
        {
          "output_type": "stream",
          "text": [
            "Drive already mounted at /content/drive; to attempt to forcibly remount, call drive.mount(\"/content/drive\", force_remount=True).\n"
          ],
          "name": "stdout"
        }
      ]
    },
    {
      "cell_type": "code",
      "metadata": {
        "colab_type": "code",
        "id": "6csu59e1bh-U",
        "colab": {
          "base_uri": "https://localhost:8080/",
          "height": 554
        },
        "outputId": "951a4735-e89c-4768-de29-2611a4431058"
      },
      "source": [
        "known_subject1 = face_recognition.load_image_file(\"/content/yalefaces/subject01.glasses\")\n",
        "known_subject2 = face_recognition.load_image_file(\"/content/yalefaces/subject02.happy\")\n",
        "known_subject3 = face_recognition.load_image_file(\"/content/yalefaces/subject03.happy\")\n",
        "known_subject4 = face_recognition.load_image_file(\"/content/yalefaces/subject04.normal\")\n",
        "known_subject5 = face_recognition.load_image_file(\"/content/yalefaces/subject05.normal\")\n",
        "known_subject6 = face_recognition.load_image_file(\"/content/yalefaces/subject06.normal\")\n",
        "known_subject7 = face_recognition.load_image_file(\"/content/yalefaces/subject07.sad\")\n",
        "known_subject8 = face_recognition.load_image_file(\"/content/yalefaces/subject08.happy\")\n",
        "# Get the face encodings for the known images\n",
        "list_of_names=['subject1','subject2','subject3','subject4','subject5','subject6','subject7','subject8']\n",
        "s1 = face_recognition.face_encodings(known_subject1)[0]\n",
        "s2 = face_recognition.face_encodings(known_subject2)[0]\n",
        "s3 = face_recognition.face_encodings(known_subject3)[0]\n",
        "s4 = face_recognition.face_encodings(known_subject4)[0]\n",
        "s5 = face_recognition.face_encodings(known_subject5)[0]\n",
        "s6 = face_recognition.face_encodings(known_subject6)[0]\n",
        "s7 = face_recognition.face_encodings(known_subject7)[0]\n",
        "s8 = face_recognition.face_encodings(known_subject8)[0]\n",
        "\n",
        "\n",
        "known_encodings = [\n",
        "    s1,s2,s3,s4,s5,s6,s7,s8\n",
        "]\n",
        "df=pd.DataFrame({\"names\":list_of_names,\"encodings\":known_encodings})\n",
        "# Load a test image and get encondings for it\n",
        "image_to_test = face_recognition.load_image_file(\"/content/yalefaces/subject02.noglasses\")\n",
        "image_to_test_encoding = face_recognition.face_encodings(image_to_test)[0]\n",
        "\n",
        "\n",
        "# See how far apart the test image is from the known faces\n",
        "face_distances = face_recognition.face_distance(known_encodings, image_to_test_encoding)\n",
        "\n",
        "for i, face_distance in enumerate(face_distances):\n",
        "    print(\"The test image has a distance of {:.2} from known image #{}\".format(face_distance, i))\n",
        "    print(\"- With a normal cutoff of 0.6, would the test image match the known image? {}\".format(face_distance < 0.6))\n",
        "    print(\"- With a very strict cutoff of 0.5, would the test image match the known image? {}\".format(face_distance < 0.5))\n",
        "    print()"
      ],
      "execution_count": null,
      "outputs": [
        {
          "output_type": "stream",
          "text": [
            "The test image has a distance of 0.73 from known image #0\n",
            "- With a normal cutoff of 0.6, would the test image match the known image? False\n",
            "- With a very strict cutoff of 0.5, would the test image match the known image? False\n",
            "\n",
            "The test image has a distance of 0.3 from known image #1\n",
            "- With a normal cutoff of 0.6, would the test image match the known image? True\n",
            "- With a very strict cutoff of 0.5, would the test image match the known image? True\n",
            "\n",
            "The test image has a distance of 0.92 from known image #2\n",
            "- With a normal cutoff of 0.6, would the test image match the known image? False\n",
            "- With a very strict cutoff of 0.5, would the test image match the known image? False\n",
            "\n",
            "The test image has a distance of 0.86 from known image #3\n",
            "- With a normal cutoff of 0.6, would the test image match the known image? False\n",
            "- With a very strict cutoff of 0.5, would the test image match the known image? False\n",
            "\n",
            "The test image has a distance of 0.67 from known image #4\n",
            "- With a normal cutoff of 0.6, would the test image match the known image? False\n",
            "- With a very strict cutoff of 0.5, would the test image match the known image? False\n",
            "\n",
            "The test image has a distance of 0.81 from known image #5\n",
            "- With a normal cutoff of 0.6, would the test image match the known image? False\n",
            "- With a very strict cutoff of 0.5, would the test image match the known image? False\n",
            "\n",
            "The test image has a distance of 0.78 from known image #6\n",
            "- With a normal cutoff of 0.6, would the test image match the known image? False\n",
            "- With a very strict cutoff of 0.5, would the test image match the known image? False\n",
            "\n",
            "The test image has a distance of 0.93 from known image #7\n",
            "- With a normal cutoff of 0.6, would the test image match the known image? False\n",
            "- With a very strict cutoff of 0.5, would the test image match the known image? False\n",
            "\n"
          ],
          "name": "stdout"
        }
      ]
    },
    {
      "cell_type": "code",
      "metadata": {
        "id": "cSSQ9qwql8Zk",
        "colab_type": "code",
        "colab": {}
      },
      "source": [
        ""
      ],
      "execution_count": null,
      "outputs": []
    },
    {
      "cell_type": "code",
      "metadata": {
        "id": "y6iMOfc_6y7d",
        "colab_type": "code",
        "colab": {
          "base_uri": "https://localhost:8080/",
          "height": 284
        },
        "outputId": "4e7cc2ef-ed5e-4637-82a4-e883a2efae8e"
      },
      "source": [
        "df"
      ],
      "execution_count": null,
      "outputs": [
        {
          "output_type": "execute_result",
          "data": {
            "text/html": [
              "<div>\n",
              "<style scoped>\n",
              "    .dataframe tbody tr th:only-of-type {\n",
              "        vertical-align: middle;\n",
              "    }\n",
              "\n",
              "    .dataframe tbody tr th {\n",
              "        vertical-align: top;\n",
              "    }\n",
              "\n",
              "    .dataframe thead th {\n",
              "        text-align: right;\n",
              "    }\n",
              "</style>\n",
              "<table border=\"1\" class=\"dataframe\">\n",
              "  <thead>\n",
              "    <tr style=\"text-align: right;\">\n",
              "      <th></th>\n",
              "      <th>names</th>\n",
              "      <th>encodings</th>\n",
              "    </tr>\n",
              "  </thead>\n",
              "  <tbody>\n",
              "    <tr>\n",
              "      <th>0</th>\n",
              "      <td>subject1</td>\n",
              "      <td>[-0.11286087334156036, 0.13367196917533875, 0....</td>\n",
              "    </tr>\n",
              "    <tr>\n",
              "      <th>1</th>\n",
              "      <td>subject2</td>\n",
              "      <td>[-0.10506156086921692, 0.08924511075019836, -0...</td>\n",
              "    </tr>\n",
              "    <tr>\n",
              "      <th>2</th>\n",
              "      <td>subject3</td>\n",
              "      <td>[-0.12389609962701797, 0.14203687012195587, 0....</td>\n",
              "    </tr>\n",
              "    <tr>\n",
              "      <th>3</th>\n",
              "      <td>subject4</td>\n",
              "      <td>[-0.07535843551158905, 0.06977519392967224, 0....</td>\n",
              "    </tr>\n",
              "    <tr>\n",
              "      <th>4</th>\n",
              "      <td>subject5</td>\n",
              "      <td>[-0.06065135449171066, 0.09993032366037369, -0...</td>\n",
              "    </tr>\n",
              "    <tr>\n",
              "      <th>5</th>\n",
              "      <td>subject6</td>\n",
              "      <td>[-0.1016281247138977, 0.10230197757482529, 0.0...</td>\n",
              "    </tr>\n",
              "    <tr>\n",
              "      <th>6</th>\n",
              "      <td>subject7</td>\n",
              "      <td>[-0.1267354041337967, 0.029525678604841232, 0....</td>\n",
              "    </tr>\n",
              "    <tr>\n",
              "      <th>7</th>\n",
              "      <td>subject8</td>\n",
              "      <td>[-0.09942977875471115, 0.07824718952178955, 0....</td>\n",
              "    </tr>\n",
              "  </tbody>\n",
              "</table>\n",
              "</div>"
            ],
            "text/plain": [
              "      names                                          encodings\n",
              "0  subject1  [-0.11286087334156036, 0.13367196917533875, 0....\n",
              "1  subject2  [-0.10506156086921692, 0.08924511075019836, -0...\n",
              "2  subject3  [-0.12389609962701797, 0.14203687012195587, 0....\n",
              "3  subject4  [-0.07535843551158905, 0.06977519392967224, 0....\n",
              "4  subject5  [-0.06065135449171066, 0.09993032366037369, -0...\n",
              "5  subject6  [-0.1016281247138977, 0.10230197757482529, 0.0...\n",
              "6  subject7  [-0.1267354041337967, 0.029525678604841232, 0....\n",
              "7  subject8  [-0.09942977875471115, 0.07824718952178955, 0...."
            ]
          },
          "metadata": {
            "tags": []
          },
          "execution_count": 19
        }
      ]
    },
    {
      "cell_type": "markdown",
      "metadata": {
        "colab_type": "text",
        "id": "UuyoQ_7zbuWV"
      },
      "source": [
        "# New Section - END"
      ]
    },
    {
      "cell_type": "markdown",
      "metadata": {
        "id": "iZNdCu0SzcrK",
        "colab_type": "text"
      },
      "source": [
        ""
      ]
    },
    {
      "cell_type": "code",
      "metadata": {
        "colab_type": "code",
        "id": "QKIwkkD7ayZo",
        "colab": {
          "base_uri": "https://localhost:8080/",
          "height": 34
        },
        "outputId": "ee24f183-9fc6-460f-ff49-fbb6cce7c467"
      },
      "source": [
        "face_distances = face_recognition.face_distance(known_encodings, image_to_test_encoding)\n",
        "t=np.where(face_distances==np.amin(face_distances))\n",
        "t[0][0]\n",
        "np.amin(face_distances)"
      ],
      "execution_count": null,
      "outputs": [
        {
          "output_type": "execute_result",
          "data": {
            "text/plain": [
              "0.30081618283742456"
            ]
          },
          "metadata": {
            "tags": []
          },
          "execution_count": 20
        }
      ]
    },
    {
      "cell_type": "code",
      "metadata": {
        "colab_type": "code",
        "id": "6Ue5_6vsXwl4",
        "colab": {
          "base_uri": "https://localhost:8080/",
          "height": 50
        },
        "outputId": "20f9c25b-8a19-4d2a-87ad-530b3180ee83"
      },
      "source": [
        "# See how far apart the test image is from the known faces\n",
        "%%timeit\n",
        "face_distances = face_recognition.face_distance(known_encodings, image_to_test_encoding)\n"
      ],
      "execution_count": null,
      "outputs": [
        {
          "output_type": "stream",
          "text": [
            "The slowest run took 20.30 times longer than the fastest. This could mean that an intermediate result is being cached.\n",
            "100000 loops, best of 3: 13 µs per loop\n"
          ],
          "name": "stdout"
        }
      ]
    },
    {
      "cell_type": "code",
      "metadata": {
        "colab_type": "code",
        "id": "XnYufpIEclYU",
        "colab": {
          "base_uri": "https://localhost:8080/",
          "height": 50
        },
        "outputId": "d7b98bb4-fce5-48b6-ba97-c62088517c66"
      },
      "source": [
        "#numpy array of known encodings = k\n",
        "%%timeit\n",
        "def new_distance(known_encodings,image_to_test_encoding):\n",
        "  y=np.abs(known_encodings-image_to_test_encoding)\n",
        "  u=(1/128)*np.sum(y,axis=1)\n",
        "  return u\n",
        "new_distance(known_encodings,image_to_test_encoding)   "
      ],
      "execution_count": null,
      "outputs": [
        {
          "output_type": "stream",
          "text": [
            "The slowest run took 17.46 times longer than the fastest. This could mean that an intermediate result is being cached.\n",
            "100000 loops, best of 3: 12.7 µs per loop\n"
          ],
          "name": "stdout"
        }
      ]
    },
    {
      "cell_type": "code",
      "metadata": {
        "id": "xfQ2k4mwoPTo",
        "colab_type": "code",
        "colab": {
          "base_uri": "https://localhost:8080/",
          "height": 34
        },
        "outputId": "13affda4-98b4-4be3-aafd-9a121cf73518"
      },
      "source": [
        "import time\n",
        "def myfast():\n",
        "  face_distances = face_recognition.face_distance(known_encodings, image_to_test_encoding)   \n",
        "n = 10000\n",
        "t0 = time.time()\n",
        "for i in range(n): myfast()\n",
        "t1 = time.time()\n",
        "\n",
        "total_n = t1-t0\n",
        "print(total_n)"
      ],
      "execution_count": null,
      "outputs": [
        {
          "output_type": "stream",
          "text": [
            "0.14733386039733887\n"
          ],
          "name": "stdout"
        }
      ]
    },
    {
      "cell_type": "code",
      "metadata": {
        "id": "PaZ1Bom6orzz",
        "colab_type": "code",
        "colab": {
          "base_uri": "https://localhost:8080/",
          "height": 34
        },
        "outputId": "d62f9624-8d3e-4d3f-890f-f4a7932b2437"
      },
      "source": [
        "known_encodings[0].shape"
      ],
      "execution_count": null,
      "outputs": [
        {
          "output_type": "execute_result",
          "data": {
            "text/plain": [
              "(32,)"
            ]
          },
          "metadata": {
            "tags": []
          },
          "execution_count": 190
        }
      ]
    },
    {
      "cell_type": "markdown",
      "metadata": {
        "colab_type": "text",
        "id": "_hi12gQvssLt"
      },
      "source": [
        "# New Section -2\n"
      ]
    },
    {
      "cell_type": "code",
      "metadata": {
        "id": "nhYG6rBTGorH",
        "colab_type": "code",
        "colab": {
          "base_uri": "https://localhost:8080/",
          "height": 50
        },
        "outputId": "5c66ae24-a34b-4c45-d60f-1e58b9c852ee"
      },
      "source": [
        "y=np.abs(known_encodings-image_to_test_encoding)\n",
        "u=(1/128)*np.sum(y,axis=1)\n",
        "u"
      ],
      "execution_count": null,
      "outputs": [
        {
          "output_type": "execute_result",
          "data": {
            "text/plain": [
              "array([0.04992938, 0.02212679, 0.06443376, 0.06237558, 0.04768584,\n",
              "       0.056851  , 0.05621283, 0.06398567])"
            ]
          },
          "metadata": {
            "tags": []
          },
          "execution_count": 27
        }
      ]
    },
    {
      "cell_type": "code",
      "metadata": {
        "id": "wo05yPVpSoQC",
        "colab_type": "code",
        "colab": {}
      },
      "source": [
        "emotions=['centerlight','glasses','happy','leftlight','noglasses','normal','rightlight','sad','sleepy','surprised','wink']\n"
      ],
      "execution_count": null,
      "outputs": []
    },
    {
      "cell_type": "code",
      "metadata": {
        "id": "cA5oDjfa-Ekn",
        "colab_type": "code",
        "colab": {}
      },
      "source": [
        "relative_euclid_facedistance=[]\n",
        "relative_mae_facedistance=[]\n",
        "\n",
        "def measure(known_encodings,x):\n",
        "  emotions=['centerlight','glasses','happy','leftlight','noglasses','normal','rightlight','sad','sleepy','surprised','wink']\n",
        "  fd=[]\n",
        "  nd=[]\n",
        "  for i in range(1,16):\n",
        "    \n",
        "    for j in emotions:\n",
        "      # Reading the image\n",
        "      if i < 10:\n",
        "        test_image_name = '/content/yalefaces/subject0{}.{}'.format(i,j)\n",
        "      else:\n",
        "        test_image_name = '/content/yalefaces/subject{}.{}'.format(i,j)\n",
        "       # Reading a few images threw an error, therefore they are skipped\n",
        "      try:     \n",
        "        test_image = face_recognition.load_image_file(test_image_name)\n",
        "        \n",
        "        test_image_encoding=face_recognition.face_encodings(test_image)[0]\n",
        "        \n",
        "        \n",
        "      except:\n",
        "        continue\n",
        "\n",
        "       #taking face distance using face_recognition api     \n",
        "      face_distances = face_recognition.face_distance(known_encodings, test_image_encoding)\n",
        "      # t1 is the index of the smallest element in the numpy array\n",
        "      t1=np.where(face_distances==np.amin(face_distances))\n",
        "      relative_euclid_facedistance.append(face_distances[t1[0][0]]) \n",
        "       # if face_distance[t1]<0.5 it is match with an existing person and if since we are looping over the subjects t1 == i for a correct match\n",
        "      if (t1[0][0]+1==i and np.amin(face_distances) < 0.487):\n",
        "        fd.append(1)                           #True +ve\n",
        "      elif i>len(known_encodings):\n",
        "        if (np.amin(face_distances) > 0.487 ):     # the i'th test subject is not in the dataframe and there is no match\n",
        "          fd.append(1)                          #True -ve\n",
        "        else:                                         # the i'th  test subject is not in the dataframe but there seems to be a match\n",
        "          fd.append(-1)                          #False +ve\n",
        "      elif i<=len(known_encodings) and t1[0][0]!=i:    # the i'th test subject is in the dataframe but there is not recognized correctly\n",
        "        fd.append(0)                            #False -ve\n",
        "\n",
        "      new_face_distance=new_distance(known_encodings,test_image_encoding) \n",
        "      t2=np.where(new_face_distance==np.amin(new_face_distance))\n",
        "      relative_mae_facedistance.append(new_face_distance[t2[0][0]])\n",
        "      if (t2[0][0]+1==i and np.amin(new_face_distance) < 0.0329):\n",
        "        nd.append(1)                            #True +ve\n",
        "      elif i>len(known_encodings):                \n",
        "        if np.amin(new_face_distance) > 0.0329:    # the i'th test subject is not in the dataframe and there is no match\n",
        "          nd.append(1)                              #True -ve\n",
        "        else:                                          # the i'th  test subject is not in the dataframe but there seems to be a match\n",
        "          nd.append(-1)                                #False +ve\n",
        "      elif i<=len(known_encodings) and t2[0][0]!=i:   # the i'th test subject is in the dataframe but there is not recognized correctly\n",
        "        nd.append(0)     \n",
        "\n",
        "  counter_1 = Counter(fd)\n",
        "  \n",
        "  print(\"Falsely classified as known:\",counter_1[-1])\n",
        "  print(\"Known but not classified correctly:\",counter_1[0])\n",
        "  print(\"Total number of tests:\",len(fd))\n",
        "  acc_fd = 1 - (counter_1[-1] + counter_1[0])/len(fd)\n",
        "  print(\"Accuracy of old face distance technique:\",acc_fd)\n",
        "  print(\"\")\n",
        "  counter_2 = Counter(nd)\n",
        "  print(\"Falsely classified as known:\",counter_2[-1])\n",
        "  print(\"Known but not classified correctly:\",counter_2[0])\n",
        "  print(\"Total number of tests:\",len(nd))\n",
        "  acc_nd = 1 - (counter_2[-1] + counter_2[0])/len(nd)\n",
        "  print(\"Accuracy of new face distance technique:\",acc_nd)\n"
      ],
      "execution_count": null,
      "outputs": []
    },
    {
      "cell_type": "code",
      "metadata": {
        "id": "EiHxHy3w2r4K",
        "colab_type": "code",
        "colab": {
          "base_uri": "https://localhost:8080/",
          "height": 168
        },
        "outputId": "c7c9b871-fd91-41ac-89e2-2507d1f65896"
      },
      "source": [
        "measure(known_encodings,x)\n"
      ],
      "execution_count": null,
      "outputs": [
        {
          "output_type": "stream",
          "text": [
            "Falsely classified as known: 6\n",
            "Known but not classified correctly: 4\n",
            "Total number of tests: 160\n",
            "Accuracy of old face distance technique: 0.9375\n",
            "\n",
            "Falsely classified as known: 1\n",
            "Known but not classified correctly: 7\n",
            "Total number of tests: 160\n",
            "Accuracy of new face distance technique: 0.95\n"
          ],
          "name": "stdout"
        }
      ]
    },
    {
      "cell_type": "code",
      "metadata": {
        "id": "PrcQo2K3dlH0",
        "colab_type": "code",
        "colab": {}
      },
      "source": [
        "relative_euclid_facedistance=np.asarray(relative_euclid_facedistance)\n",
        "relative_mae_facedistance=np.asarray(relative_mae_facedistance)"
      ],
      "execution_count": null,
      "outputs": []
    },
    {
      "cell_type": "code",
      "metadata": {
        "id": "YC7Jx_v9fixS",
        "colab_type": "code",
        "colab": {}
      },
      "source": [
        "df=pd.DataFrame()\n",
        "df[\"euclid\"]=relative_euclid_facedistance\n",
        "df[\"mae\"]=relative_mae_facedistance"
      ],
      "execution_count": null,
      "outputs": []
    },
    {
      "cell_type": "code",
      "metadata": {
        "id": "WH6BPSQk1BbN",
        "colab_type": "code",
        "colab": {
          "base_uri": "https://localhost:8080/",
          "height": 106
        },
        "outputId": "d93954d8-49e1-4c9d-c39a-7d31ea6d4f57"
      },
      "source": [
        "df.corr()"
      ],
      "execution_count": null,
      "outputs": [
        {
          "output_type": "execute_result",
          "data": {
            "text/html": [
              "<div>\n",
              "<style scoped>\n",
              "    .dataframe tbody tr th:only-of-type {\n",
              "        vertical-align: middle;\n",
              "    }\n",
              "\n",
              "    .dataframe tbody tr th {\n",
              "        vertical-align: top;\n",
              "    }\n",
              "\n",
              "    .dataframe thead th {\n",
              "        text-align: right;\n",
              "    }\n",
              "</style>\n",
              "<table border=\"1\" class=\"dataframe\">\n",
              "  <thead>\n",
              "    <tr style=\"text-align: right;\">\n",
              "      <th></th>\n",
              "      <th>euclid</th>\n",
              "      <th>mae</th>\n",
              "    </tr>\n",
              "  </thead>\n",
              "  <tbody>\n",
              "    <tr>\n",
              "      <th>euclid</th>\n",
              "      <td>1.000000</td>\n",
              "      <td>0.999082</td>\n",
              "    </tr>\n",
              "    <tr>\n",
              "      <th>mae</th>\n",
              "      <td>0.999082</td>\n",
              "      <td>1.000000</td>\n",
              "    </tr>\n",
              "  </tbody>\n",
              "</table>\n",
              "</div>"
            ],
            "text/plain": [
              "          euclid       mae\n",
              "euclid  1.000000  0.999082\n",
              "mae     0.999082  1.000000"
            ]
          },
          "metadata": {
            "tags": []
          },
          "execution_count": 249
        }
      ]
    },
    {
      "cell_type": "code",
      "metadata": {
        "id": "I9zliS9wUR0B",
        "colab_type": "code",
        "colab": {}
      },
      "source": [
        "#This function returns 2 lists\n",
        "#This function returns the list where 1 is correct prediction, 0 is False -ve, -1 is False +ve\n",
        "\n",
        "def measure_test(known_encodings):\n",
        "  emotions=['centerlight','glasses','happy','leftlight','noglasses','normal','rightlight','sad','sleepy','surprised','wink']\n",
        "  fd=[]\n",
        "  nd=[]\n",
        "  for i in range(1,16):\n",
        "    \n",
        "    for j in emotions:\n",
        "      # Reading the image\n",
        "      if i < 10:\n",
        "        test_image_name = '/content/yalefaces/subject0{}.{}'.format(i,j)\n",
        "      else:\n",
        "        test_image_name = '/content/yalefaces/subject{}.{}'.format(i,j)\n",
        "      \n",
        "      # Reading a few images threw an error, therefore they are skipped\n",
        "      try:     \n",
        "        test_image = face_recognition.load_image_file(test_image_name)\n",
        "        \n",
        "        test_image_encoding=face_recognition.face_encodings(test_image)[0]\n",
        "        \n",
        "      except:\n",
        "        continue\n",
        "\n",
        "      #taking face distance using face_recognition api\n",
        "      face_distances = face_recognition.face_distance(known_encodings, test_image_encoding)\n",
        "      # t1 is the index of the smallest element in the numpy array\n",
        "      t1=np.where(face_distances==np.amin(face_distances))\n",
        "      \n",
        "      # if face_distance[t1]<0.5 it is match with an existing person and if since we are looping over the subjects t1 == i for a correct match\n",
        "      if (t1[0][0]+1==i and np.amin(face_distances) < 0.5):\n",
        "        fd.append(1)                                            #True +ve\n",
        "      \n",
        "      elif i>len(known_encodings):\n",
        "        if np.amin(face_distances) > 0.5:                       # the i'th test subject is not in the dataframe and there is no match\n",
        "          fd.append(1)                                          # True -ve\n",
        "        else:                                                   # the i'th  test subject is not in the dataframe but there seems to be a match\n",
        "          fd.append(-1)                                         # False +ve\n",
        "      elif i<=len(known_encodings) and t1[0][0]!=i:             # the i'th test subject is in the dataframe but there is not recognized\n",
        "        fd.append(0)                                            \n",
        "\n",
        "      new_face_distance=new_distance(known_encodings,test_image_encoding) \n",
        "      t2=np.where(new_face_distance==np.amin(new_face_distance))\n",
        "      print\n",
        "      print((t2[0][0]+1),i,np.amin(new_face_distance))\n",
        "      if (t2[0][0]+1==i and np.amin(new_face_distance) < 0.035):\n",
        "        nd.append(1)                            #True +ve\n",
        "      elif i>len(known_encodings):\n",
        "        if np.amin(new_face_distance) > 0.035:\n",
        "          nd.append(1)                          #True -ve\n",
        "        else:\n",
        "          nd.append(-1)                          #False +ve\n",
        "      elif i<=len(known_encodings) and t2[0][0]!=i:\n",
        "        nd.append(0)     \n",
        "\n",
        "\n",
        "  return fd,nd"
      ],
      "execution_count": null,
      "outputs": []
    },
    {
      "cell_type": "code",
      "metadata": {
        "id": "ZQTgCf8vdjSE",
        "colab_type": "code",
        "colab": {}
      },
      "source": [
        ""
      ],
      "execution_count": null,
      "outputs": []
    },
    {
      "cell_type": "code",
      "metadata": {
        "id": "30TiN_ieVvng",
        "colab_type": "code",
        "colab": {
          "base_uri": "https://localhost:8080/",
          "height": 296
        },
        "outputId": "f638a4dc-d82c-44ef-e579-d8c76407ef2a"
      },
      "source": [
        ""
      ],
      "execution_count": null,
      "outputs": [
        {
          "output_type": "error",
          "ename": "NameError",
          "evalue": "ignored",
          "traceback": [
            "\u001b[0;31m---------------------------------------------------------------------------\u001b[0m",
            "\u001b[0;31mNameError\u001b[0m                                 Traceback (most recent call last)",
            "\u001b[0;32m<ipython-input-98-b644fe20f98f>\u001b[0m in \u001b[0;36m<module>\u001b[0;34m()\u001b[0m\n\u001b[0;32m----> 1\u001b[0;31m \u001b[0ml_fd\u001b[0m\u001b[0;34m,\u001b[0m\u001b[0ml_nd\u001b[0m\u001b[0;34m=\u001b[0m\u001b[0mmeasure_test\u001b[0m\u001b[0;34m(\u001b[0m\u001b[0mknown_encodings\u001b[0m\u001b[0;34m)\u001b[0m\u001b[0;34m\u001b[0m\u001b[0;34m\u001b[0m\u001b[0m\n\u001b[0m",
            "\u001b[0;32m<ipython-input-97-e5697379b4f1>\u001b[0m in \u001b[0;36mmeasure_test\u001b[0;34m(known_encodings)\u001b[0m\n\u001b[1;32m     28\u001b[0m       \u001b[0;31m# t1 is the index of the smallest element in the numpy array\u001b[0m\u001b[0;34m\u001b[0m\u001b[0;34m\u001b[0m\u001b[0;34m\u001b[0m\u001b[0m\n\u001b[1;32m     29\u001b[0m       \u001b[0mt1\u001b[0m\u001b[0;34m=\u001b[0m\u001b[0mnp\u001b[0m\u001b[0;34m.\u001b[0m\u001b[0mwhere\u001b[0m\u001b[0;34m(\u001b[0m\u001b[0mface_distances\u001b[0m\u001b[0;34m==\u001b[0m\u001b[0mnp\u001b[0m\u001b[0;34m.\u001b[0m\u001b[0mamin\u001b[0m\u001b[0;34m(\u001b[0m\u001b[0mface_distances\u001b[0m\u001b[0;34m)\u001b[0m\u001b[0;34m)\u001b[0m\u001b[0;34m\u001b[0m\u001b[0;34m\u001b[0m\u001b[0m\n\u001b[0;32m---> 30\u001b[0;31m       \u001b[0mrelative_Euclid_facedistance\u001b[0m\u001b[0;34m.\u001b[0m\u001b[0mappend\u001b[0m\u001b[0;34m(\u001b[0m\u001b[0mmin\u001b[0m\u001b[0;34m(\u001b[0m\u001b[0mface_distance\u001b[0m\u001b[0;34m)\u001b[0m\u001b[0;34m)\u001b[0m\u001b[0;34m\u001b[0m\u001b[0;34m\u001b[0m\u001b[0m\n\u001b[0m\u001b[1;32m     31\u001b[0m       \u001b[0;31m# if face_distance[t1]<0.5 it is match with an existing person and if since we are looping over the subjects t1 == i for a correct match\u001b[0m\u001b[0;34m\u001b[0m\u001b[0;34m\u001b[0m\u001b[0;34m\u001b[0m\u001b[0m\n\u001b[1;32m     32\u001b[0m       \u001b[0;32mif\u001b[0m \u001b[0;34m(\u001b[0m\u001b[0mt1\u001b[0m\u001b[0;34m[\u001b[0m\u001b[0;36m0\u001b[0m\u001b[0;34m]\u001b[0m\u001b[0;34m[\u001b[0m\u001b[0;36m0\u001b[0m\u001b[0;34m]\u001b[0m\u001b[0;34m+\u001b[0m\u001b[0;36m1\u001b[0m\u001b[0;34m==\u001b[0m\u001b[0mi\u001b[0m \u001b[0;32mand\u001b[0m \u001b[0mnp\u001b[0m\u001b[0;34m.\u001b[0m\u001b[0mamin\u001b[0m\u001b[0;34m(\u001b[0m\u001b[0mface_distances\u001b[0m\u001b[0;34m)\u001b[0m \u001b[0;34m<\u001b[0m \u001b[0;36m0.5\u001b[0m\u001b[0;34m)\u001b[0m\u001b[0;34m:\u001b[0m\u001b[0;34m\u001b[0m\u001b[0;34m\u001b[0m\u001b[0m\n",
            "\u001b[0;31mNameError\u001b[0m: name 'relative_Euclid_facedistance' is not defined"
          ]
        }
      ]
    },
    {
      "cell_type": "code",
      "metadata": {
        "id": "qvhUoxgyWCJn",
        "colab_type": "code",
        "colab": {
          "base_uri": "https://localhost:8080/",
          "height": 54
        },
        "outputId": "4b6410c0-2d41-479e-8ebd-50c102c75730"
      },
      "source": [
        ""
      ],
      "execution_count": null,
      "outputs": [
        {
          "output_type": "stream",
          "text": [
            "[1, 1, 1, 1, 1, 0, 1, 0, 1, 1, 0, 1, 1, 1, 1, 1, 1, 1, 0, 1, 1, 1, 1, 1, 1, 1, 1, 1, 1, 1, 1, 1, 1, 1, 1, 1, 1, 1, 1, 1, 1, 1, 1, 1, 1, 1, 1, 1, 1, 1, 1, 1, 1, 1, 1, 1, 1, 1, 1, 1, 1, 1, 1, 1, 1, 1, 1, 1, 1, 1, 1, 1, 1, 1, 1, 1, 1, 1, 1, 1, 1, 1, 1, 1, 1, 1, 1, 1, 1, 1, 1, 1, 1, 1, 1, 1, 1, 1, 1, 1, 1, 1, 1, 1, 1, 1, 1, 1, 1, 1, 1, 1, 1, 1, 1, 1, 1, 1, 1, 1, 1, 1, 1, 1, 1, 1, 1, 1, 1, 1, 1, 1, 1, 1, 1, 1, 1, 1, 1, -1, -1, -1, -1, -1, -1, -1, -1, -1, -1, -1, 1, 1, 1, 1, 1, 1, 1, 1, 1, 1, 1]\n"
          ],
          "name": "stdout"
        }
      ]
    },
    {
      "cell_type": "code",
      "metadata": {
        "id": "lYlTK8_aaO7a",
        "colab_type": "code",
        "colab": {
          "base_uri": "https://localhost:8080/",
          "height": 54
        },
        "outputId": "4dcf2a18-03c4-47b0-ee87-34feb0176d18"
      },
      "source": [
        ""
      ],
      "execution_count": null,
      "outputs": [
        {
          "output_type": "stream",
          "text": [
            "[1, 1, 1, 1, 1, 1, 1, 0, 1, 1, 0, 1, 1, 1, 1, 1, 1, 1, 0, 1, 1, 1, 1, 1, 1, 1, 1, 1, 1, 1, 1, 1, 1, 1, 1, 1, 1, 1, 1, 1, 1, 1, 1, 1, 1, 1, 1, 1, 1, 1, 1, 1, 1, 1, 1, 1, 1, 1, 1, 1, 1, 1, 1, 1, 1, 1, 1, 1, 1, 1, 1, 1, 1, 1, 1, 1, 1, 1, 1, 1, 1, 1, 1, 1, 1, 1, 1, 1, 1, 1, 1, 1, 1, 1, 1, 1, 1, 1, 1, 1, 1, 1, 1, 1, 1, 1, 1, 1, 1, 1, 1, 1, 1, 1, 1, 1, 1, 1, 1, 1, 1, 1, 1, 1, 1, 1, 1, 1, 1, 1, 1, 1, 1, 1, 1, 1, 1, 1, 1, -1, -1, 1, -1, -1, -1, -1, -1, 1, -1, -1, 1, 1, 1, 1, 1, 1, 1, 1, 1, 1, 1]\n"
          ],
          "name": "stdout"
        }
      ]
    },
    {
      "cell_type": "markdown",
      "metadata": {
        "id": "e-XzR4Eozf-a",
        "colab_type": "text"
      },
      "source": [
        ""
      ]
    },
    {
      "cell_type": "code",
      "metadata": {
        "id": "I5gUyPs-z-G-",
        "colab_type": "code",
        "colab": {}
      },
      "source": [
        ""
      ],
      "execution_count": null,
      "outputs": []
    }
  ]
}